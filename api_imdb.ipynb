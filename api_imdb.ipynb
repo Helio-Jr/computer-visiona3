{
 "cells": [
  {
   "cell_type": "code",
   "execution_count": 1,
   "metadata": {},
   "outputs": [],
   "source": [
    "import pandas as pd\n",
    "import numpy as np\n",
    "import requests"
   ]
  },
  {
   "cell_type": "code",
   "execution_count": 6,
   "metadata": {},
   "outputs": [],
   "source": [
    "api_key = \"2034dacd1d3dda0eeea92969115db83d\""
   ]
  },
  {
   "cell_type": "code",
   "execution_count": 7,
   "metadata": {},
   "outputs": [
    {
     "data": {
      "text/plain": [
       "{'success': False,\n",
       " 'status_code': 34,\n",
       " 'status_message': 'The resource you requested could not be found.'}"
      ]
     },
     "execution_count": 7,
     "metadata": {},
     "output_type": "execute_result"
    }
   ],
   "source": [
    "url = f\"https://api.themoviedb.org/3/trending/person?api_key={api_key}&language=pt-BR&external_source=imdb_id\" #https://api.themoviedb.org/3/trending/person/{time_window}\n",
    "response = requests.get(url)\n",
    "data = response.json()\n",
    "\n",
    "data"
   ]
  },
  {
   "cell_type": "code",
   "execution_count": 35,
   "metadata": {},
   "outputs": [
    {
     "name": "stdout",
     "output_type": "stream",
     "text": [
      "ID do artista Angelina Jolie: 11701\n",
      "['Malévola', 'Malévola: Dona do Mal', 'Lara Croft: Tomb Raider']\n",
      "ID do artista Brad Pitt: 287\n",
      "['Bastardos Inglórios', 'Guerra Mundial Z', 'Clube da Luta']\n",
      "ID do artista Denzel Washington: 5292\n",
      "['O Protetor', 'O Livro de Eli', 'O Voo']\n",
      "ID do artista Hugh Jackman: 6968\n",
      "['Logan', 'O Grande Truque', 'X-Men: Dias de um Futuro Esquecido']\n",
      "ID do artista Jennifer Lawrence: 72129\n",
      "['Jogos Vorazes', 'Jogos Vorazes: Em Chamas', 'Jogos Vorazes: A Esperança - Parte 1']\n",
      "ID do artista Johnny Depp: 85\n",
      "['Piratas do Caribe: A Maldição do Pérola Negra', 'Piratas do Caribe: O Baú da Morte', 'A Fantástica Fábrica de Chocolate']\n",
      "ID do artista Kate Winslet: 204\n",
      "['Titanic', 'Brilho Eterno de uma Mente sem Lembranças', 'O Leitor']\n",
      "ID do artista Leonardo DiCaprio: 6193\n",
      "['A Origem', 'Titanic', 'Ilha do Medo']\n",
      "ID do artista Megan Fox: 19537\n",
      "['Transformers', 'Transformers: A Vingança dos Derrotados', 'Garota Infernal']\n",
      "ID do artista Natalie Portman: 524\n",
      "['V de Vingança', 'Cisne Negro', 'Thor']\n",
      "ID do artista Nicole Kidman: 2227\n",
      "['Os Outros', 'A Bússola de Ouro', 'Moulin Rouge: Amor em Vermelho']\n",
      "ID do artista Robert Downey Jr.: 3223\n",
      "['Os Vingadores: The Avengers', 'Vingadores: Guerra Infinita', 'Homem de Ferro']\n",
      "ID do artista Sandra Bullock: 18277\n",
      "['Gravidade', 'Minions', 'Bird Box']\n",
      "ID do artista Scarlett Johansson: 1245\n",
      "['Lucy', 'Viúva Negra', 'A Vigilante do Amanhã: Ghost in the Shell']\n",
      "ID do artista Tom Cruise: 500\n",
      "['No Limite do Amanhã', 'Oblivion', 'Missão: Impossível - Protocolo Fantasma']\n",
      "ID do artista Tom Hanks: 31\n",
      "['Forrest Gump: O Contador de Histórias', 'Toy Story: Um Mundo de Aventuras', 'À Espera de um Milagre']\n",
      "ID do artista Will Smith: 2888\n",
      "['Esquadrão Suicida', 'Eu Sou a Lenda', 'Eu, Robô']\n"
     ]
    }
   ],
   "source": [
    "from tmdbv3api import TMDb, Person\n",
    "\n",
    "# Inicialize a TMDb e configure a chave de API\n",
    "tmdb = TMDb()\n",
    "tmdb.api_key = '2034dacd1d3dda0eeea92969115db83d'\n",
    "tmdb.language = 'pt-BR'\n",
    "artistas = [\n",
    "    \"Angelina Jolie\",\n",
    "    \"Brad Pitt\",\n",
    "    \"Denzel Washington\",\n",
    "    \"Hugh Jackman\",\n",
    "    \"Jennifer Lawrence\",\n",
    "    \"Johnny Depp\",\n",
    "    \"Kate Winslet\",\n",
    "    \"Leonardo DiCaprio\",\n",
    "    \"Megan Fox\",\n",
    "    \"Natalie Portman\",\n",
    "    \"Nicole Kidman\",\n",
    "    \"Robert Downey Jr.\",\n",
    "    \"Sandra Bullock\",\n",
    "    \"Scarlett Johansson\",\n",
    "    \"Tom Cruise\",\n",
    "    \"Tom Hanks\",\n",
    "    \"Will Smith\"\n",
    "]\n",
    "\n",
    "# Crie uma instância da classe Person\n",
    "person = Person()\n",
    "\n",
    "# Busque pelo nome do artista\n",
    "\n",
    "for nome_do_artista in artistas:\n",
    "    resultado = person.search(nome_do_artista)\n",
    "\n",
    "    # Exiba o ID do artista\n",
    "    if resultado:\n",
    "        artista = resultado[0]\n",
    "        print(f\"ID do artista {artista.name}: {artista.id}\")\n",
    "        print([obra['title'] for obra in artista['known_for']])\n",
    "    else:\n",
    "        print(\"Artista não encontrado.\")\n"
   ]
  },
  {
   "cell_type": "code",
   "execution_count": 34,
   "metadata": {},
   "outputs": [
    {
     "data": {
      "text/plain": [
       "['Esquadrão Suicida', 'Eu Sou a Lenda', 'Eu, Robô']"
      ]
     },
     "execution_count": 34,
     "metadata": {},
     "output_type": "execute_result"
    }
   ],
   "source": [
    "[obra['title'] for obra in resultado[0]['known_for']]"
   ]
  },
  {
   "cell_type": "code",
   "execution_count": 23,
   "metadata": {},
   "outputs": [
    {
     "data": {
      "text/plain": [
       "{'adult': False,\n",
       " 'also_known_as': ['Angelina Jolie Voight',\n",
       "  'Angelina Voight',\n",
       "  '安祖蓮娜·祖莉',\n",
       "  'എയ്\\u200cഞ്ചലിന ജോളി ',\n",
       "  'אנג’לינה ג’ולי',\n",
       "  '安潔莉娜・裘莉',\n",
       "  '安吉麗娜·朱莉'],\n",
       " 'biography': 'Angelina Jolie Pitt (née Voight, Los Angeles, 4 de junho de 1975) é uma atriz, dubladora, diretora, produtora, roteirista e ativista humanitária americana. Vencedora de um Óscar (2000), dois Prémios Screen Actors Guild (1998 e 1999), e três Prêmios Globo de Ouro (1997, 1998 e 1999). Trabalha com assuntos humanitários desde 2000, quando filmou Lara Croft: Tomb Raider no Camboja. Em 27 de agosto de 2001, foi nomeada Embaixadora da Boa Vontade do ACNUR. Em 17 de abril de 2012, foi nomeada Enviada Especial do ACNUR. Tem sido frequentemente citada como a mulher \"mais bonita\" ou \"mais sexy\" do mundo.',\n",
       " 'birthday': '1975-06-04',\n",
       " 'deathday': None,\n",
       " 'gender': 1,\n",
       " 'homepage': None,\n",
       " 'id': 11701,\n",
       " 'imdb_id': 'nm0001401',\n",
       " 'known_for_department': 'Acting',\n",
       " 'name': 'Angelina Jolie',\n",
       " 'place_of_birth': 'Los Angeles, California, USA ',\n",
       " 'popularity': 83.1,\n",
       " 'profile_path': '/bXNxIKcJ5cNNW8QFrBPWcfTSu9x.jpg'}"
      ]
     },
     "execution_count": 23,
     "metadata": {},
     "output_type": "execute_result"
    }
   ],
   "source": [
    "url = f\"https://api.themoviedb.org/3/person/11701?api_key={api_key}&language=pt-BR&external_source=imdb_id\" #https://api.themoviedb.org/3/trending/person/{time_window}\n",
    "response = requests.get(url)\n",
    "data = response.json()\n",
    "\n",
    "data"
   ]
  }
 ],
 "metadata": {
  "kernelspec": {
   "display_name": "Python 3",
   "language": "python",
   "name": "python3"
  },
  "language_info": {
   "codemirror_mode": {
    "name": "ipython",
    "version": 3
   },
   "file_extension": ".py",
   "mimetype": "text/x-python",
   "name": "python",
   "nbconvert_exporter": "python",
   "pygments_lexer": "ipython3",
   "version": "3.8.6"
  }
 },
 "nbformat": 4,
 "nbformat_minor": 2
}
