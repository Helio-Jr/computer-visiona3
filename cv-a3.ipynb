{
 "cells": [
  {
   "cell_type": "code",
   "execution_count": 1,
   "metadata": {},
   "outputs": [],
   "source": [
    "import os\n",
    "from deepface import DeepFace\n",
    "import cv2\n",
    "import pandas as pd\n",
    "from tmdbv3api import TMDb, Person"
   ]
  },
  {
   "cell_type": "code",
   "execution_count": 2,
   "metadata": {},
   "outputs": [],
   "source": [
    "# Caminho para as pastas de imagens\n",
    "dataset_path = \"dados/\"\n",
    "\n",
    "# Inicializando a biblioteca do TMDB\n",
    "tmdb = TMDb()\n",
    "tmdb.api_key = '2034dacd1d3dda0eeea92969115db83d'\n",
    "tmdb.language = 'pt-BR'"
   ]
  },
  {
   "cell_type": "code",
   "execution_count": 3,
   "metadata": {},
   "outputs": [],
   "source": [
    "#Função para prever o artista\n",
    "def predict_artist(image_path):\n",
    "\n",
    "    # Analisar a imagem e comparar com o dataset\n",
    "    print(\"Fazendo a predição...\")\n",
    "\n",
    "    result = DeepFace.find(\n",
    "        img_path=image_path,\n",
    "        db_path=dataset_path,\n",
    "        model_name='VGG-Face',  # Passando o nome do modelo como string\n",
    "        enforce_detection=False  # Ignora erros de detecção facial para garantir que a análise seja realizada\n",
    "    )\n",
    "    return result"
   ]
  },
  {
   "cell_type": "code",
   "execution_count": 12,
   "metadata": {},
   "outputs": [
    {
     "name": "stdout",
     "output_type": "stream",
     "text": [
      "Fazendo a predição...\n",
      "24-10-29 00:40:37 - Searching dados/testes/will.jpg in 1962 length datastore\n",
      "24-10-29 00:40:38 - find function duration 1.7840609550476074 seconds\n",
      "O nome do artista é: Will Smith\n",
      "Ele é conhecido por atuar em filmes como: Esquadrão Suicida, Eu Sou a Lenda e Eu, Robô\n"
     ]
    }
   ],
   "source": [
    "if __name__ == \"__main__\":\n",
    "    # Caminho para uma nova imagem para teste\n",
    "    test_image = \"dados/testes/will.jpg\"\n",
    "    \n",
    "    prediction = predict_artist(test_image)\n",
    "\n",
    "    if len(prediction[0]) != 1:\n",
    "        artist = prediction[0].iloc[1, 0].split('/')[1].split('\\\\')[0]\n",
    "\n",
    "        person = Person()\n",
    "        artist_data = person.search(artist)[0]\n",
    "\n",
    "        print(\"O nome do artista é:\", artist)\n",
    "        print(f\"Ele é conhecido por atuar em filmes como: {artist_data['known_for'][0]['title']}, {artist_data['known_for'][1]['title']} e {artist_data['known_for'][2]['title']}\")\n",
    "    else:\n",
    "        print('Artista não encontrado na nossa base de dados.')"
   ]
  }
 ],
 "metadata": {
  "kernelspec": {
   "display_name": "Python 3",
   "language": "python",
   "name": "python3"
  },
  "language_info": {
   "codemirror_mode": {
    "name": "ipython",
    "version": 3
   },
   "file_extension": ".py",
   "mimetype": "text/x-python",
   "name": "python",
   "nbconvert_exporter": "python",
   "pygments_lexer": "ipython3",
   "version": "3.8.6"
  }
 },
 "nbformat": 4,
 "nbformat_minor": 2
}
