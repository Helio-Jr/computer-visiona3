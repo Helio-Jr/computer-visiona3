{
 "cells": [
  {
   "cell_type": "code",
   "execution_count": 12,
   "metadata": {},
   "outputs": [],
   "source": [
    "import tensorflow as tf\n",
    "from tensorflow.keras.preprocessing.image import ImageDataGenerator\n",
    "from tensorflow.keras.applications import ResNet50\n",
    "from tensorflow.keras.layers import Dense, GlobalAveragePooling2D\n",
    "from tensorflow.keras.models import Model\n",
    "from tensorflow.keras.preprocessing import image\n",
    "import numpy as np"
   ]
  },
  {
   "cell_type": "code",
   "execution_count": 3,
   "metadata": {},
   "outputs": [],
   "source": [
    "caminho_base = 'dados/'"
   ]
  },
  {
   "cell_type": "code",
   "execution_count": 5,
   "metadata": {},
   "outputs": [
    {
     "name": "stdout",
     "output_type": "stream",
     "text": [
      "Found 1530 images belonging to 17 classes.\n",
      "Found 270 images belonging to 17 classes.\n",
      "Downloading data from https://storage.googleapis.com/tensorflow/keras-applications/resnet/resnet50_weights_tf_dim_ordering_tf_kernels_notop.h5\n",
      "94765736/94765736 [==============================] - 4s 0us/step\n"
     ]
    }
   ],
   "source": [
    "# Gerador de imagens para o treinamento\n",
    "gerador_treino = ImageDataGenerator(\n",
    "    rescale=1./255,\n",
    "    shear_range=0.2,\n",
    "    zoom_range=0.2,\n",
    "    horizontal_flip=True,\n",
    "    validation_split=0.15\n",
    ")\n",
    "\n",
    "# Gerador para treino e validação\n",
    "dados_treino = gerador_treino.flow_from_directory(\n",
    "    caminho_base,\n",
    "    target_size=(224, 224),\n",
    "    batch_size=32,\n",
    "    class_mode='categorical',\n",
    "    subset='training'\n",
    ")\n",
    "\n",
    "dados_validacao = gerador_treino.flow_from_directory(\n",
    "    caminho_base,\n",
    "    target_size=(224, 224),\n",
    "    batch_size=32,\n",
    "    class_mode='categorical',\n",
    "    subset='validation'\n",
    ")\n",
    "\n",
    "# Carregar o modelo ResNet50 pré-treinado\n",
    "base_modelo = ResNet50(weights='imagenet', include_top=False, input_shape=(224, 224, 3))"
   ]
  },
  {
   "cell_type": "code",
   "execution_count": 9,
   "metadata": {},
   "outputs": [],
   "source": [
    "# Congelar as camadas base\n",
    "for camada in base_modelo.layers:\n",
    "    camada.trainable = False\n",
    "\n",
    "# Adicionar camadas customizadas para classificação\n",
    "x = base_modelo.output\n",
    "x = GlobalAveragePooling2D()(x)\n",
    "x = Dense(1024, activation='relu')(x)\n",
    "saida = Dense(17, activation='softmax')(x)\n",
    "\n",
    "modelo = Model(inputs=base_modelo.input, outputs=saida)"
   ]
  },
  {
   "cell_type": "code",
   "execution_count": 10,
   "metadata": {},
   "outputs": [],
   "source": [
    "# Compilar o modelo\n",
    "modelo.compile(optimizer='adam', loss='categorical_crossentropy', metrics=['accuracy'])"
   ]
  },
  {
   "cell_type": "code",
   "execution_count": 11,
   "metadata": {},
   "outputs": [
    {
     "name": "stdout",
     "output_type": "stream",
     "text": [
      "Epoch 1/10\n",
      "47/47 [==============================] - 88s 2s/step - loss: 3.0197 - accuracy: 0.0814 - val_loss: 2.8687 - val_accuracy: 0.0547\n",
      "Epoch 2/10\n",
      "47/47 [==============================] - 80s 2s/step - loss: 2.8352 - accuracy: 0.1008 - val_loss: 2.7769 - val_accuracy: 0.1562\n",
      "Epoch 3/10\n",
      "47/47 [==============================] - 80s 2s/step - loss: 2.8096 - accuracy: 0.1081 - val_loss: 2.8102 - val_accuracy: 0.0625\n",
      "Epoch 4/10\n",
      "47/47 [==============================] - 81s 2s/step - loss: 2.7811 - accuracy: 0.1108 - val_loss: 2.7701 - val_accuracy: 0.1016\n",
      "Epoch 5/10\n",
      "47/47 [==============================] - 78s 2s/step - loss: 2.7797 - accuracy: 0.1121 - val_loss: 2.7721 - val_accuracy: 0.1250\n",
      "Epoch 6/10\n",
      "47/47 [==============================] - 78s 2s/step - loss: 2.7708 - accuracy: 0.1255 - val_loss: 2.7024 - val_accuracy: 0.1406\n",
      "Epoch 7/10\n",
      "47/47 [==============================] - 80s 2s/step - loss: 2.7397 - accuracy: 0.1228 - val_loss: 2.7133 - val_accuracy: 0.1406\n",
      "Epoch 8/10\n",
      "47/47 [==============================] - 90s 2s/step - loss: 2.7406 - accuracy: 0.1215 - val_loss: 2.7118 - val_accuracy: 0.1445\n",
      "Epoch 9/10\n",
      "47/47 [==============================] - 88s 2s/step - loss: 2.7422 - accuracy: 0.1228 - val_loss: 2.6804 - val_accuracy: 0.1172\n",
      "Epoch 10/10\n",
      "47/47 [==============================] - 85s 2s/step - loss: 2.7307 - accuracy: 0.1188 - val_loss: 2.6811 - val_accuracy: 0.1250\n"
     ]
    }
   ],
   "source": [
    "# Treinar o modelo\n",
    "historico = modelo.fit(\n",
    "    dados_treino,\n",
    "    steps_per_epoch=dados_treino.samples // 32,\n",
    "    validation_data=dados_validacao,\n",
    "    validation_steps=dados_validacao.samples // 32,\n",
    "    epochs=10\n",
    ")"
   ]
  },
  {
   "cell_type": "code",
   "execution_count": 13,
   "metadata": {},
   "outputs": [],
   "source": [
    "# Função para prever o artista com uma nova imagem\n",
    "def prever_artista(caminho_imagem):\n",
    "    imagem = image.load_img(caminho_imagem, target_size=(224, 224))\n",
    "    img_array = image.img_to_array(imagem) / 255.0\n",
    "    img_array = np.expand_dims(img_array, axis=0)\n",
    "    predicao = modelo.predict(img_array)\n",
    "    indice = np.argmax(predicao)\n",
    "    return dados_treino.class_indices, indice"
   ]
  },
  {
   "cell_type": "code",
   "execution_count": 15,
   "metadata": {},
   "outputs": [
    {
     "name": "stdout",
     "output_type": "stream",
     "text": [
      "1/1 [==============================] - 0s 114ms/step\n",
      "O artista predito é: Tom Hanks\n"
     ]
    }
   ],
   "source": [
    "# Exemplo de uso\n",
    "caminho_imagem_nova = f'{caminho_base}Will Smith/001_beebcee2.jpg'\n",
    "classes, predicao = prever_artista(caminho_imagem_nova)\n",
    "artista_predito = list(classes.keys())[list(classes.values()).index(predicao)]\n",
    "\n",
    "print(f'O artista predito é: {artista_predito}')"
   ]
  },
  {
   "cell_type": "code",
   "execution_count": null,
   "metadata": {},
   "outputs": [],
   "source": [
    "print(f'O artista predito é: {artista_predito}')"
   ]
  }
 ],
 "metadata": {
  "kernelspec": {
   "display_name": "Python 3",
   "language": "python",
   "name": "python3"
  },
  "language_info": {
   "codemirror_mode": {
    "name": "ipython",
    "version": 3
   },
   "file_extension": ".py",
   "mimetype": "text/x-python",
   "name": "python",
   "nbconvert_exporter": "python",
   "pygments_lexer": "ipython3",
   "version": "3.8.6"
  }
 },
 "nbformat": 4,
 "nbformat_minor": 2
}
