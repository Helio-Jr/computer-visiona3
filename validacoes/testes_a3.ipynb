{
 "cells": [
  {
   "cell_type": "code",
   "execution_count": 18,
   "metadata": {},
   "outputs": [
    {
     "name": "stdout",
     "output_type": "stream",
     "text": [
      "Fazendo a predição...\n",
      "24-10-28 20:58:26 - Searching dados/brad.jpg in 1962 length datastore\n",
      "24-10-28 20:58:27 - find function duration 1.960627555847168 seconds\n",
      "Artista previsto: Brad Pitt\n"
     ]
    }
   ],
   "source": [
    "import os\n",
    "from deepface import DeepFace\n",
    "import cv2\n",
    "import pandas as pd\n",
    "\n",
    "# Caminho para as pastas de imagens\n",
    "dataset_path = \"dados/\"\n",
    "\n",
    "# Função para predizer o artista dado uma nova imagem\n",
    "def predict_artist(image_path):\n",
    "    # Analisar a imagem e comparar com o dataset\n",
    "    print(\"Fazendo a predição...\")\n",
    "    result = DeepFace.find(\n",
    "        img_path=image_path,\n",
    "        db_path=dataset_path,\n",
    "        model_name='VGG-Face',  # Passando o nome do modelo como string\n",
    "        enforce_detection=False  # Ignora erros de detecção facial para garantir que a análise seja realizada\n",
    "    )\n",
    "    return result\n",
    "\n",
    "if __name__ == \"__main__\":\n",
    "    # Caminho para uma nova imagem para teste\n",
    "    test_image = \"dados/testes/brad.jpg\"\n",
    "    prediction = predict_artist(test_image)\n",
    "    # Exibe o resultado\n",
    "\n",
    "    if len(prediction[0]) != 1:\n",
    "        artist = prediction[0].iloc[1, 0].split('/')[1].split('\\\\')[0]\n",
    "        print(\"Artista previsto:\", artist)\n",
    "    else:\n",
    "        print('Artista não encontrado na nossa base de dados.')\n"
   ]
  },
  {
   "cell_type": "code",
   "execution_count": 14,
   "metadata": {},
   "outputs": [
    {
     "data": {
      "text/plain": [
       "82"
      ]
     },
     "execution_count": 14,
     "metadata": {},
     "output_type": "execute_result"
    }
   ],
   "source": [
    "artist"
   ]
  },
  {
   "cell_type": "code",
   "execution_count": 20,
   "metadata": {},
   "outputs": [
    {
     "data": {
      "text/html": [
       "<div>\n",
       "<style scoped>\n",
       "    .dataframe tbody tr th:only-of-type {\n",
       "        vertical-align: middle;\n",
       "    }\n",
       "\n",
       "    .dataframe tbody tr th {\n",
       "        vertical-align: top;\n",
       "    }\n",
       "\n",
       "    .dataframe thead th {\n",
       "        text-align: right;\n",
       "    }\n",
       "</style>\n",
       "<table border=\"1\" class=\"dataframe\">\n",
       "  <thead>\n",
       "    <tr style=\"text-align: right;\">\n",
       "      <th></th>\n",
       "      <th>identity</th>\n",
       "      <th>hash</th>\n",
       "      <th>target_x</th>\n",
       "      <th>target_y</th>\n",
       "      <th>target_w</th>\n",
       "      <th>target_h</th>\n",
       "      <th>source_x</th>\n",
       "      <th>source_y</th>\n",
       "      <th>source_w</th>\n",
       "      <th>source_h</th>\n",
       "      <th>threshold</th>\n",
       "      <th>distance</th>\n",
       "    </tr>\n",
       "  </thead>\n",
       "  <tbody>\n",
       "    <tr>\n",
       "      <th>0</th>\n",
       "      <td>dados/brad.jpg</td>\n",
       "      <td>18bd06c793e59419a3d2e820edbf651f643d9417</td>\n",
       "      <td>424</td>\n",
       "      <td>46</td>\n",
       "      <td>193</td>\n",
       "      <td>193</td>\n",
       "      <td>424</td>\n",
       "      <td>46</td>\n",
       "      <td>193</td>\n",
       "      <td>193</td>\n",
       "      <td>0.68</td>\n",
       "      <td>0.000000</td>\n",
       "    </tr>\n",
       "    <tr>\n",
       "      <th>1</th>\n",
       "      <td>dados/Brad Pitt\\033_46c95715.jpg</td>\n",
       "      <td>23dc2699c3dee0256d7d1e6a29eb065c724e134b</td>\n",
       "      <td>136</td>\n",
       "      <td>30</td>\n",
       "      <td>271</td>\n",
       "      <td>271</td>\n",
       "      <td>424</td>\n",
       "      <td>46</td>\n",
       "      <td>193</td>\n",
       "      <td>193</td>\n",
       "      <td>0.68</td>\n",
       "      <td>0.524978</td>\n",
       "    </tr>\n",
       "    <tr>\n",
       "      <th>2</th>\n",
       "      <td>dados/Brad Pitt\\018_136dbb40.jpg</td>\n",
       "      <td>0419e714ebc82c5439f564621de5d46886ef6cd9</td>\n",
       "      <td>24</td>\n",
       "      <td>47</td>\n",
       "      <td>109</td>\n",
       "      <td>109</td>\n",
       "      <td>424</td>\n",
       "      <td>46</td>\n",
       "      <td>193</td>\n",
       "      <td>193</td>\n",
       "      <td>0.68</td>\n",
       "      <td>0.525117</td>\n",
       "    </tr>\n",
       "  </tbody>\n",
       "</table>\n",
       "</div>"
      ],
      "text/plain": [
       "                           identity                                      hash  \\\n",
       "0                    dados/brad.jpg  18bd06c793e59419a3d2e820edbf651f643d9417   \n",
       "1  dados/Brad Pitt\\033_46c95715.jpg  23dc2699c3dee0256d7d1e6a29eb065c724e134b   \n",
       "2  dados/Brad Pitt\\018_136dbb40.jpg  0419e714ebc82c5439f564621de5d46886ef6cd9   \n",
       "\n",
       "   target_x  target_y  target_w  target_h  source_x  source_y  source_w  \\\n",
       "0       424        46       193       193       424        46       193   \n",
       "1       136        30       271       271       424        46       193   \n",
       "2        24        47       109       109       424        46       193   \n",
       "\n",
       "   source_h  threshold  distance  \n",
       "0       193       0.68  0.000000  \n",
       "1       193       0.68  0.524978  \n",
       "2       193       0.68  0.525117  "
      ]
     },
     "execution_count": 20,
     "metadata": {},
     "output_type": "execute_result"
    }
   ],
   "source": [
    "prediction[0].head(3)"
   ]
  },
  {
   "cell_type": "code",
   "execution_count": 32,
   "metadata": {},
   "outputs": [
    {
     "data": {
      "text/plain": [
       "'Megan Fox'"
      ]
     },
     "execution_count": 32,
     "metadata": {},
     "output_type": "execute_result"
    }
   ],
   "source": [
    "prediction[0].iloc[1, 0].split('/')[1].split('\\\\')[0]"
   ]
  },
  {
   "cell_type": "code",
   "execution_count": 21,
   "metadata": {},
   "outputs": [
    {
     "name": "stdout",
     "output_type": "stream",
     "text": [
      "ID do artista Brad Pitt: 287\n",
      "['Bastardos Inglórios', 'Guerra Mundial Z', 'Clube da Luta']\n"
     ]
    }
   ],
   "source": [
    "from tmdbv3api import TMDb, Person\n",
    "\n",
    "# Inicialize a TMDb e configure a chave de API\n",
    "tmdb = TMDb()\n",
    "tmdb.api_key = '2034dacd1d3dda0eeea92969115db83d'\n",
    "tmdb.language = 'pt-BR'\n",
    "\n",
    "# Crie uma instância da classe Person\n",
    "person = Person()\n",
    "\n",
    "# Busque pelo nome do artista\n",
    "\n",
    "resultado = person.search(artist)\n",
    "\n",
    "# Exiba o ID do artista\n",
    "if resultado:\n",
    "    artista = resultado[0]\n",
    "    print(f\"ID do artista {artista.name}: {artista.id}\")\n",
    "    print([obra['title'] for obra in artista['known_for']])\n",
    "else:\n",
    "    print(\"Artista não encontrado.\")"
   ]
  },
  {
   "cell_type": "code",
   "execution_count": 32,
   "metadata": {},
   "outputs": [
    {
     "name": "stdout",
     "output_type": "stream",
     "text": [
      "DataFrame Principal (Informações do Ator):\n",
      " Empty DataFrame\n",
      "Columns: []\n",
      "Index: [0]\n"
     ]
    }
   ],
   "source": [
    "\n",
    "# Transformando 'results' em um DataFrame principal\n",
    "df_main = pd.json_normalize(resultado['results'])\n",
    "\n",
    "# Transformando 'known_for' em DataFrame separado\n",
    "known_for_data = []\n",
    "for result in resultado['results']:\n",
    "    for item in result['known_for']:\n",
    "        known_for_data.append({\n",
    "            'name': result['name'],  # Relaciona com o nome do ator\n",
    "            **item  # Expande as chaves do 'known_for' para o DataFrame\n",
    "        })\n",
    "\n",
    "df_known_for = pd.DataFrame(known_for_data)\n",
    "\n",
    "# Exibindo os DataFrames resultantes\n",
    "print(\"DataFrame Principal (Informações do Ator):\\n\", df_main)\n",
    "#print(\"\\nDataFrame Conhecido Por (Filmes e Séries):\\n\", df_known_for)\n"
   ]
  },
  {
   "cell_type": "code",
   "execution_count": 31,
   "metadata": {},
   "outputs": [
    {
     "data": {
      "text/html": [
       "<div>\n",
       "<style scoped>\n",
       "    .dataframe tbody tr th:only-of-type {\n",
       "        vertical-align: middle;\n",
       "    }\n",
       "\n",
       "    .dataframe tbody tr th {\n",
       "        vertical-align: top;\n",
       "    }\n",
       "\n",
       "    .dataframe thead th {\n",
       "        text-align: right;\n",
       "    }\n",
       "</style>\n",
       "<table border=\"1\" class=\"dataframe\">\n",
       "  <thead>\n",
       "    <tr style=\"text-align: right;\">\n",
       "      <th></th>\n",
       "      <th>name</th>\n",
       "      <th>backdrop_path</th>\n",
       "      <th>id</th>\n",
       "      <th>title</th>\n",
       "      <th>original_title</th>\n",
       "      <th>overview</th>\n",
       "      <th>poster_path</th>\n",
       "      <th>media_type</th>\n",
       "      <th>adult</th>\n",
       "      <th>original_language</th>\n",
       "      <th>genre_ids</th>\n",
       "      <th>popularity</th>\n",
       "      <th>release_date</th>\n",
       "      <th>video</th>\n",
       "      <th>vote_average</th>\n",
       "      <th>vote_count</th>\n",
       "    </tr>\n",
       "  </thead>\n",
       "  <tbody>\n",
       "    <tr>\n",
       "      <th>0</th>\n",
       "      <td>Brad Pitt</td>\n",
       "      <td>/1Jpkm9qZcsT0mSyVXgs4VlGjPNI.jpg</td>\n",
       "      <td>16869</td>\n",
       "      <td>Bastardos Inglórios</td>\n",
       "      <td>Inglourious Basterds</td>\n",
       "      <td>Durante a Segunda Guerra Mundial, na França, u...</td>\n",
       "      <td>/n8fuS2uDDykO4P3RBPKLhWs0Ffj.jpg</td>\n",
       "      <td>movie</td>\n",
       "      <td>False</td>\n",
       "      <td>en</td>\n",
       "      <td>[18, 53, 10752]</td>\n",
       "      <td>80.095</td>\n",
       "      <td>2009-08-02</td>\n",
       "      <td>False</td>\n",
       "      <td>8.219</td>\n",
       "      <td>22129</td>\n",
       "    </tr>\n",
       "    <tr>\n",
       "      <th>1</th>\n",
       "      <td>Brad Pitt</td>\n",
       "      <td>/kg2FOT2Oe5PSCgs3L4vLel6B7ck.jpg</td>\n",
       "      <td>72190</td>\n",
       "      <td>Guerra Mundial Z</td>\n",
       "      <td>World War Z</td>\n",
       "      <td>Um vírus letal se espalha rapidamente e transf...</td>\n",
       "      <td>/2Sdz5gGrwN92pRanlJKeUqkIjRk.jpg</td>\n",
       "      <td>movie</td>\n",
       "      <td>False</td>\n",
       "      <td>en</td>\n",
       "      <td>[28, 27, 878, 53]</td>\n",
       "      <td>98.794</td>\n",
       "      <td>2013-06-19</td>\n",
       "      <td>False</td>\n",
       "      <td>6.800</td>\n",
       "      <td>15258</td>\n",
       "    </tr>\n",
       "    <tr>\n",
       "      <th>2</th>\n",
       "      <td>Brad Pitt</td>\n",
       "      <td>/hZkgoQYus5vegHoetLkCJzb17zJ.jpg</td>\n",
       "      <td>550</td>\n",
       "      <td>Clube da Luta</td>\n",
       "      <td>Fight Club</td>\n",
       "      <td>Um homem deprimido que sofre de insônia conhec...</td>\n",
       "      <td>/r3pPehX4ik8NLYPpbDRAh0YRtMb.jpg</td>\n",
       "      <td>movie</td>\n",
       "      <td>False</td>\n",
       "      <td>en</td>\n",
       "      <td>[18]</td>\n",
       "      <td>109.714</td>\n",
       "      <td>1999-10-15</td>\n",
       "      <td>False</td>\n",
       "      <td>8.438</td>\n",
       "      <td>29264</td>\n",
       "    </tr>\n",
       "  </tbody>\n",
       "</table>\n",
       "</div>"
      ],
      "text/plain": [
       "        name                     backdrop_path     id                title  \\\n",
       "0  Brad Pitt  /1Jpkm9qZcsT0mSyVXgs4VlGjPNI.jpg  16869  Bastardos Inglórios   \n",
       "1  Brad Pitt  /kg2FOT2Oe5PSCgs3L4vLel6B7ck.jpg  72190     Guerra Mundial Z   \n",
       "2  Brad Pitt  /hZkgoQYus5vegHoetLkCJzb17zJ.jpg    550        Clube da Luta   \n",
       "\n",
       "         original_title                                           overview  \\\n",
       "0  Inglourious Basterds  Durante a Segunda Guerra Mundial, na França, u...   \n",
       "1           World War Z  Um vírus letal se espalha rapidamente e transf...   \n",
       "2            Fight Club  Um homem deprimido que sofre de insônia conhec...   \n",
       "\n",
       "                        poster_path media_type  adult original_language  \\\n",
       "0  /n8fuS2uDDykO4P3RBPKLhWs0Ffj.jpg      movie  False                en   \n",
       "1  /2Sdz5gGrwN92pRanlJKeUqkIjRk.jpg      movie  False                en   \n",
       "2  /r3pPehX4ik8NLYPpbDRAh0YRtMb.jpg      movie  False                en   \n",
       "\n",
       "           genre_ids  popularity release_date  video  vote_average  vote_count  \n",
       "0    [18, 53, 10752]      80.095   2009-08-02  False         8.219       22129  \n",
       "1  [28, 27, 878, 53]      98.794   2013-06-19  False         6.800       15258  \n",
       "2               [18]     109.714   1999-10-15  False         8.438       29264  "
      ]
     },
     "execution_count": 31,
     "metadata": {},
     "output_type": "execute_result"
    }
   ],
   "source": [
    "df_known_for"
   ]
  },
  {
   "cell_type": "code",
   "execution_count": 37,
   "metadata": {},
   "outputs": [
    {
     "data": {
      "text/html": [
       "<div>\n",
       "<style scoped>\n",
       "    .dataframe tbody tr th:only-of-type {\n",
       "        vertical-align: middle;\n",
       "    }\n",
       "\n",
       "    .dataframe tbody tr th {\n",
       "        vertical-align: top;\n",
       "    }\n",
       "\n",
       "    .dataframe thead th {\n",
       "        text-align: right;\n",
       "    }\n",
       "</style>\n",
       "<table border=\"1\" class=\"dataframe\">\n",
       "  <thead>\n",
       "    <tr style=\"text-align: right;\">\n",
       "      <th></th>\n",
       "      <th>0</th>\n",
       "    </tr>\n",
       "  </thead>\n",
       "  <tbody>\n",
       "    <tr>\n",
       "      <th>0</th>\n",
       "      <td>adult</td>\n",
       "    </tr>\n",
       "    <tr>\n",
       "      <th>1</th>\n",
       "      <td>gender</td>\n",
       "    </tr>\n",
       "    <tr>\n",
       "      <th>2</th>\n",
       "      <td>id</td>\n",
       "    </tr>\n",
       "    <tr>\n",
       "      <th>3</th>\n",
       "      <td>known_for_department</td>\n",
       "    </tr>\n",
       "    <tr>\n",
       "      <th>4</th>\n",
       "      <td>name</td>\n",
       "    </tr>\n",
       "    <tr>\n",
       "      <th>5</th>\n",
       "      <td>original_name</td>\n",
       "    </tr>\n",
       "    <tr>\n",
       "      <th>6</th>\n",
       "      <td>popularity</td>\n",
       "    </tr>\n",
       "    <tr>\n",
       "      <th>7</th>\n",
       "      <td>profile_path</td>\n",
       "    </tr>\n",
       "    <tr>\n",
       "      <th>8</th>\n",
       "      <td>known_for</td>\n",
       "    </tr>\n",
       "  </tbody>\n",
       "</table>\n",
       "</div>"
      ],
      "text/plain": [
       "                      0\n",
       "0                 adult\n",
       "1                gender\n",
       "2                    id\n",
       "3  known_for_department\n",
       "4                  name\n",
       "5         original_name\n",
       "6            popularity\n",
       "7          profile_path\n",
       "8             known_for"
      ]
     },
     "execution_count": 37,
     "metadata": {},
     "output_type": "execute_result"
    }
   ],
   "source": [
    "pd.DataFrame(resultado['results'][0])"
   ]
  },
  {
   "cell_type": "code",
   "execution_count": 41,
   "metadata": {},
   "outputs": [
    {
     "data": {
      "text/html": [
       "<div>\n",
       "<style scoped>\n",
       "    .dataframe tbody tr th:only-of-type {\n",
       "        vertical-align: middle;\n",
       "    }\n",
       "\n",
       "    .dataframe tbody tr th {\n",
       "        vertical-align: top;\n",
       "    }\n",
       "\n",
       "    .dataframe thead th {\n",
       "        text-align: right;\n",
       "    }\n",
       "</style>\n",
       "<table border=\"1\" class=\"dataframe\">\n",
       "  <thead>\n",
       "    <tr style=\"text-align: right;\">\n",
       "      <th></th>\n",
       "      <th>adult</th>\n",
       "      <th>gender</th>\n",
       "      <th>id</th>\n",
       "      <th>known_for_department</th>\n",
       "      <th>name</th>\n",
       "      <th>original_name</th>\n",
       "      <th>popularity</th>\n",
       "      <th>profile_path</th>\n",
       "    </tr>\n",
       "  </thead>\n",
       "  <tbody>\n",
       "    <tr>\n",
       "      <th>0</th>\n",
       "      <td>False</td>\n",
       "      <td>2</td>\n",
       "      <td>287</td>\n",
       "      <td>Acting</td>\n",
       "      <td>Brad Pitt</td>\n",
       "      <td>Brad Pitt</td>\n",
       "      <td>85.064</td>\n",
       "      <td>/9OfnD7lxgIj3BNQpJFnwxnwl6w5.jpg</td>\n",
       "    </tr>\n",
       "  </tbody>\n",
       "</table>\n",
       "</div>"
      ],
      "text/plain": [
       "   adult  gender   id known_for_department       name original_name  \\\n",
       "0  False       2  287               Acting  Brad Pitt     Brad Pitt   \n",
       "\n",
       "   popularity                      profile_path  \n",
       "0      85.064  /9OfnD7lxgIj3BNQpJFnwxnwl6w5.jpg  "
      ]
     },
     "execution_count": 41,
     "metadata": {},
     "output_type": "execute_result"
    }
   ],
   "source": [
    "filtered_data = {k: v for k, v in resultado[0].items() if k != \"known_for\"}\n",
    "\n",
    "# Convertendo o dicionário em um DataFrame\n",
    "df = pd.DataFrame([filtered_data])\n",
    "\n",
    "# Exibindo o DataFrame resultante\n",
    "df"
   ]
  }
 ],
 "metadata": {
  "kernelspec": {
   "display_name": "Python 3",
   "language": "python",
   "name": "python3"
  },
  "language_info": {
   "codemirror_mode": {
    "name": "ipython",
    "version": 3
   },
   "file_extension": ".py",
   "mimetype": "text/x-python",
   "name": "python",
   "nbconvert_exporter": "python",
   "pygments_lexer": "ipython3",
   "version": "3.8.6"
  }
 },
 "nbformat": 4,
 "nbformat_minor": 2
}
